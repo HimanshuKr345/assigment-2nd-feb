{
 "cells": [
  {
   "cell_type": "code",
   "execution_count": null,
   "id": "0639763c-d5a4-4151-832c-10446e6877be",
   "metadata": {},
   "outputs": [],
   "source": [
    "Name = Himanshu kumar , Batch = Data Science master, Assigment 2nd feb"
   ]
  },
  {
   "cell_type": "code",
   "execution_count": null,
   "id": "862aae2a-921b-4afb-bd9c-dbbc31090229",
   "metadata": {},
   "outputs": [],
   "source": [
    "Q1. Explain with an example each when to use a for loop and a while loop."
   ]
  },
  {
   "cell_type": "code",
   "execution_count": null,
   "id": "8c5fc205-1b2b-4764-b9ae-3e2e68baf91e",
   "metadata": {},
   "outputs": [],
   "source": [
    "For loop : for loop kisi bhi code key block ko known number of times repeat key liye use hota hai"
   ]
  },
  {
   "cell_type": "code",
   "execution_count": null,
   "id": "eb74003a-0528-4e18-91b7-dfb99e751079",
   "metadata": {},
   "outputs": [],
   "source": [
    "Example of for loop:"
   ]
  },
  {
   "cell_type": "code",
   "execution_count": 1,
   "id": "6bdc0d65-79f8-4575-b9d1-5286b980f98f",
   "metadata": {},
   "outputs": [
    {
     "name": "stdout",
     "output_type": "stream",
     "text": [
      "Himanshu\n",
      "nitish\n",
      "krish\n",
      "sandesh\n"
     ]
    }
   ],
   "source": [
    "students  = ['Himanshu','nitish','krish','sandesh']\n",
    "\n",
    "for i in students:\n",
    "    print(i)"
   ]
  },
  {
   "cell_type": "code",
   "execution_count": null,
   "id": "f9861c90-444a-4c44-af96-0cf812e4d09f",
   "metadata": {},
   "outputs": [],
   "source": [
    "While loop : while loop kisi specific block of code ko unknown number of times repeat key liye use hota hai jab tak hamri\n",
    "liki hui condition puri nahi hoti"
   ]
  },
  {
   "cell_type": "code",
   "execution_count": null,
   "id": "0af51953-1958-4ddb-86bb-5e23bfa661d7",
   "metadata": {},
   "outputs": [],
   "source": [
    "Example of while loop:"
   ]
  },
  {
   "cell_type": "code",
   "execution_count": 3,
   "id": "a08423ab-83a0-416c-a579-514cac5ce4e6",
   "metadata": {},
   "outputs": [
    {
     "name": "stdout",
     "output_type": "stream",
     "text": [
      "0\n",
      "1\n",
      "2\n",
      "3\n",
      "4\n",
      "5\n"
     ]
    }
   ],
   "source": [
    "counting = 0\n",
    "\n",
    "while counting <= 5:\n",
    "    print(counting)\n",
    "    counting += 1"
   ]
  },
  {
   "cell_type": "code",
   "execution_count": null,
   "id": "3e319caa-bdbc-45cb-87a1-ee7d271824d5",
   "metadata": {},
   "outputs": [],
   "source": [
    "Q2. Write a python program to print the sum and product of the first 10 natural numbers using for\n",
    "and while loop."
   ]
  },
  {
   "cell_type": "code",
   "execution_count": 7,
   "id": "759d68fa-1ba4-4f87-8074-2afb4dfdae75",
   "metadata": {},
   "outputs": [
    {
     "name": "stdout",
     "output_type": "stream",
     "text": [
      "55\n",
      "3628800\n"
     ]
    }
   ],
   "source": [
    "#Using for loop:\n",
    "sum = 0\n",
    "product = 1\n",
    "\n",
    "for i in range(1,11):\n",
    "    sum += i\n",
    "    product *= i\n",
    "    i += 1\n",
    "print(sum)\n",
    "print(product)"
   ]
  },
  {
   "cell_type": "code",
   "execution_count": 8,
   "id": "e22593d1-fe10-4be4-b870-16ce891089d0",
   "metadata": {},
   "outputs": [
    {
     "name": "stdout",
     "output_type": "stream",
     "text": [
      "55\n",
      "3628800\n"
     ]
    }
   ],
   "source": [
    "#using while loop:\n",
    "sum = 0\n",
    "product = 1\n",
    "i = 1\n",
    "while i < 11:\n",
    "    sum += i\n",
    "    product *= i\n",
    "    i += 1\n",
    "print(sum)\n",
    "print(product)\n",
    "    "
   ]
  },
  {
   "cell_type": "code",
   "execution_count": null,
   "id": "7078b9d2-7478-4b97-b4bc-a96e2c7b9dfc",
   "metadata": {},
   "outputs": [],
   "source": [
    "Q3. Create a python program to compute the electricity bill for a household.\n",
    "The per-unit charges in rupees are as follows: For the first 100 units, the user will be charged Rs. 4.5 per\n",
    "unit, for the next 100 units, the user will be charged Rs. 6 per unit, and for the next 100 units, the user will\n",
    "be charged Rs. 10 per unit, After 300 units and above the user will be charged Rs. 20 per unit.\n",
    "You are required to take the units of electricity consumed in a month from the user as input.\n",
    "Your program must pass this test case: when the unit of electricity consumed by the user in a month is\n",
    "310, the total electricity bill should be 2250."
   ]
  },
  {
   "cell_type": "code",
   "execution_count": 11,
   "id": "5b8fef88-a98b-41ec-92cc-a5a86c9f9999",
   "metadata": {},
   "outputs": [
    {
     "name": "stdin",
     "output_type": "stream",
     "text": [
      "Enter you units 274\n"
     ]
    },
    {
     "name": "stdout",
     "output_type": "stream",
     "text": [
      "Electricity bill for 274 is 1233.0\n"
     ]
    }
   ],
   "source": [
    "units = int(input(\"Enter you units\"))\n",
    "if units > 0 or units <=100:\n",
    "    charge = 4.5\n",
    "    Bill_Amt = charge * units\n",
    "    print(\"Electricity bill for\",units,\"is\", Bill_Amt)\n",
    "elif units > 100 or units <= 200:\n",
    "    charge = 6\n",
    "    Bill_Amt = charge * units\n",
    "    print(\"Electricity bill for\", units,\"is\", Bill_Amt)\n",
    "elif units > 200 or units <= 300:\n",
    "    charge = 10\n",
    "    Bill_Amt = charge * units\n",
    "    print(\"Elecctricity bill for\", units,\"is\",Bill_Amt)\n",
    "elif units > 300:\n",
    "    charge = 20\n",
    "    Bill_Amt = charge * units\n",
    "    print(\"Electricity bill for\", units ,\"is\", Bill_Amt)\n",
    "    "
   ]
  },
  {
   "cell_type": "code",
   "execution_count": null,
   "id": "5088c8ef-38a1-429f-899a-263de453cc67",
   "metadata": {},
   "outputs": [],
   "source": [
    "Q4. Create a list of numbers from 1 to 100. Use for loop and while loop to calculate the cube of each\n",
    "number and if the cube of that number is divisible by 4 or 5 then append that number in a list and print\n",
    "that list."
   ]
  },
  {
   "cell_type": "code",
   "execution_count": 17,
   "id": "f4efbcf2-6840-41ff-92e6-e5407a9abbfc",
   "metadata": {},
   "outputs": [
    {
     "name": "stdout",
     "output_type": "stream",
     "text": [
      "[2, 4, 5, 6, 8, 10, 12, 14, 15, 16, 18, 20, 22, 24, 25, 26, 28, 30, 32, 34, 35, 36, 38, 40, 42, 44, 45, 46, 48, 50, 52, 54, 55, 56, 58, 60, 62, 64, 65, 66, 68, 70, 72, 74, 75, 76, 78, 80, 82, 84, 85, 86, 88, 90, 92, 94, 95, 96, 98] "
     ]
    }
   ],
   "source": [
    "#Using for loop\n",
    "l = []\n",
    "for i in list(range(1,100)):\n",
    "    cube = (i**3)\n",
    "    #print(cube)\n",
    "    if cube%4 == 0 or cube%5 ==0:\n",
    "        l.append(i)\n",
    "print(l,end = ' ')"
   ]
  },
  {
   "cell_type": "code",
   "execution_count": null,
   "id": "a0fc7a4d-a768-4513-8c36-9c94e07523ec",
   "metadata": {},
   "outputs": [],
   "source": [
    "#using while loop\n",
    "l = []\n",
    "i = 1\n",
    "while i < 100:\n",
    "    cube = i**3\n",
    "    #print(cube)\n",
    "    if cube%4 == 0 or cube%5 == 0:\n",
    "        l.append(i)\n",
    "    i += 1    \n",
    "print(l,end = ' ')        "
   ]
  },
  {
   "cell_type": "code",
   "execution_count": null,
   "id": "c96a830d-79a7-4c95-9719-ba7b42630b70",
   "metadata": {},
   "outputs": [],
   "source": [
    "Q5. Write a program to filter count vowels in the below-given string.\n"
   ]
  },
  {
   "cell_type": "code",
   "execution_count": null,
   "id": "73167e43-ab22-48d0-95c9-000bec8118f7",
   "metadata": {},
   "outputs": [],
   "source": [
    "string = \"I want to become a data scientist\""
   ]
  },
  {
   "cell_type": "code",
   "execution_count": null,
   "id": "8f4da274-5b16-49ae-aeb5-da4a36591aa5",
   "metadata": {},
   "outputs": [],
   "source": [
    "# using for loop\n",
    "string = \"I want to become a data scientist\"\n",
    "vowels=\"AEIOU\"\n",
    "sort=[]\n",
    "for i in string.upper():\n",
    "    for j in vowels:\n",
    "        if i==j:\n",
    "            sort.append(i)\n",
    "print(len(sort),sort)"
   ]
  },
  {
   "cell_type": "code",
   "execution_count": null,
   "id": "90acafba-a51d-4d8d-a0bc-07caa8b3a264",
   "metadata": {},
   "outputs": [],
   "source": [
    "SORRY SIR BECAUSE THE KERNAL WAS DEAD IN MIDDLE OF WITING THIS ASSIGMENT FEW RESULTS \n",
    "ARE NOT THERE BUT I Have check them they working fine"
   ]
  }
 ],
 "metadata": {
  "kernelspec": {
   "display_name": "Python 3 (ipykernel)",
   "language": "python",
   "name": "python3"
  },
  "language_info": {
   "codemirror_mode": {
    "name": "ipython",
    "version": 3
   },
   "file_extension": ".py",
   "mimetype": "text/x-python",
   "name": "python",
   "nbconvert_exporter": "python",
   "pygments_lexer": "ipython3",
   "version": "3.10.8"
  }
 },
 "nbformat": 4,
 "nbformat_minor": 5
}
